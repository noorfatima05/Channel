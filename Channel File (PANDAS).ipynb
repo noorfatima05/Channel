{
 "cells": [
  {
   "cell_type": "code",
   "execution_count": null,
   "id": "6992e283",
   "metadata": {},
   "outputs": [],
   "source": [
    "import pandas as pd\n",
    "import numpy as np\n",
    "import matplotlib.pyplot as plt\n",
    "import seaborn as sns\n",
    "import warnings\n",
    "warnings.filterwarnings(\"ignore\")"
   ]
  },
  {
   "cell_type": "code",
   "execution_count": null,
   "id": "bade9938",
   "metadata": {},
   "outputs": [],
   "source": [
    "df = pd.read_csv(\"Global_YouTube_Statistics.csv\",encoding = \"latin1\")"
   ]
  },
  {
   "cell_type": "code",
   "execution_count": null,
   "id": "75543853",
   "metadata": {},
   "outputs": [],
   "source": [
    "df"
   ]
  },
  {
   "cell_type": "code",
   "execution_count": null,
   "id": "01a5adea",
   "metadata": {},
   "outputs": [],
   "source": [
    "df.info()"
   ]
  },
  {
   "cell_type": "code",
   "execution_count": null,
   "id": "74519305",
   "metadata": {},
   "outputs": [],
   "source": [
    "df.shape"
   ]
  },
  {
   "cell_type": "markdown",
   "id": "b513e0eb",
   "metadata": {},
   "source": [
    "# Columns Review"
   ]
  },
  {
   "cell_type": "code",
   "execution_count": null,
   "id": "285625b3",
   "metadata": {},
   "outputs": [],
   "source": [
    "# Look into the values in each column\n",
    "for i in df.columns:\n",
    "    print(\"========================================\")\n",
    "    print(i)\n",
    "    print(\"========================================\")\n",
    "    print(set(df[i].tolist()))"
   ]
  },
  {
   "cell_type": "markdown",
   "id": "1c3cd4b4",
   "metadata": {},
   "source": [
    "# Data Cleaning"
   ]
  },
  {
   "cell_type": "code",
   "execution_count": null,
   "id": "b4fdc3f6",
   "metadata": {},
   "outputs": [],
   "source": [
    "df.info()"
   ]
  },
  {
   "cell_type": "code",
   "execution_count": null,
   "id": "00b0708d",
   "metadata": {},
   "outputs": [],
   "source": [
    "# Remove unwanted columns\n",
    "df = df.drop([\"Title\",\"category\",\"Abbreviation\",\"created_month\",\"created_date\",\"Gross tertiary education enrollment (%)\",\"Unemployment rate\",\"Urban_population\",\"Latitude\",\"Longitude\"], axis = 1)"
   ]
  },
  {
   "cell_type": "code",
   "execution_count": null,
   "id": "73039a5c",
   "metadata": {},
   "outputs": [],
   "source": [
    "df.info()"
   ]
  },
  {
   "cell_type": "code",
   "execution_count": null,
   "id": "b916ae48",
   "metadata": {},
   "outputs": [],
   "source": [
    "df.shape"
   ]
  },
  {
   "cell_type": "code",
   "execution_count": null,
   "id": "475b5401",
   "metadata": {},
   "outputs": [],
   "source": [
    "data = df.copy()\n",
    "df.head(1)"
   ]
  },
  {
   "cell_type": "markdown",
   "id": "5bf0d693",
   "metadata": {},
   "source": [
    "# Transforming & Renaming Columns Into Columns"
   ]
  },
  {
   "cell_type": "code",
   "execution_count": null,
   "id": "e31025b5",
   "metadata": {},
   "outputs": [],
   "source": [
    "# def convert_million(x,df):\n",
    "#     for i in x:\n",
    "#         df[i] =round(df[i]/1000000,2)\n",
    "        \n",
    "#         data.rename(columns ={i:f'{i}_in_million'},inplace = True)\n",
    "        \n",
    "#         return df\n",
    "    \n",
    "# cols=[\"subscribers\",\"video views\",\"video_views_for_the_last_30_days\",\"lowest_monthly_earnings\",\"highest_monthly_earnings\",\"lowest_yearly_earnings\",\"highest_yearly_earnings\",\"subscribers_for_last_30_days\",\"Population\"]\n",
    "\n",
    "# df =convert_million(cols,df)"
   ]
  },
  {
   "cell_type": "code",
   "execution_count": null,
   "id": "2f52bcf2",
   "metadata": {},
   "outputs": [],
   "source": [
    "def convert_million(x,df):\n",
    "    for i in x:\n",
    "        df[i] =round(df[i]/1000000,2)\n",
    "        \n",
    "        data.rename(columns ={i:f'{i}_in_million'},inplace = True)\n",
    "        \n",
    "    return df"
   ]
  },
  {
   "cell_type": "code",
   "execution_count": null,
   "id": "0be9918c",
   "metadata": {},
   "outputs": [],
   "source": [
    "cols=[\"subscribers\",\"video views\",\"video_views_for_the_last_30_days\",\"lowest_monthly_earnings\",\"highest_monthly_earnings\",\"lowest_yearly_earnings\",\"highest_yearly_earnings\",\"subscribers_for_last_30_days\",\"Population\"]\n",
    "\n",
    "df =convert_million(cols,df)"
   ]
  },
  {
   "cell_type": "code",
   "execution_count": null,
   "id": "071e34b1",
   "metadata": {},
   "outputs": [],
   "source": [
    "df.head(1)"
   ]
  },
  {
   "cell_type": "markdown",
   "id": "26bf3942",
   "metadata": {},
   "source": [
    "# Cheacking duplicates"
   ]
  },
  {
   "cell_type": "code",
   "execution_count": null,
   "id": "237a49d9",
   "metadata": {},
   "outputs": [],
   "source": [
    "# cheaking Duplicates\n",
    "df.duplicated().sum()"
   ]
  },
  {
   "cell_type": "markdown",
   "id": "b1a4ca5d",
   "metadata": {},
   "source": [
    "# Cheacking Missing Values"
   ]
  },
  {
   "cell_type": "code",
   "execution_count": null,
   "id": "6cffba51",
   "metadata": {},
   "outputs": [],
   "source": [
    "df.isna().sum()"
   ]
  },
  {
   "cell_type": "markdown",
   "id": "883c2fd3",
   "metadata": {},
   "source": [
    "# Filling Missing Values Of Numerical Columns With 0 , Catagoical With Unkown"
   ]
  },
  {
   "cell_type": "code",
   "execution_count": null,
   "id": "53dd6598",
   "metadata": {},
   "outputs": [],
   "source": [
    "for i in df.select_dtypes(include =[\"int64\",\"float64\"]).columns:\n",
    "    df[i] = df[i].fillna(0)"
   ]
  },
  {
   "cell_type": "code",
   "execution_count": null,
   "id": "7432547c",
   "metadata": {},
   "outputs": [],
   "source": [
    "for i in df.select_dtypes(include = [\"object\"]).columns:\n",
    "    df[i]=df[i].fillna(0)"
   ]
  },
  {
   "cell_type": "code",
   "execution_count": null,
   "id": "15a3effa",
   "metadata": {},
   "outputs": [],
   "source": [
    "df.isna().sum()"
   ]
  },
  {
   "cell_type": "markdown",
   "id": "f3950bda",
   "metadata": {},
   "source": [
    "# Review Data Types "
   ]
  },
  {
   "cell_type": "code",
   "execution_count": null,
   "id": "ac7037fc",
   "metadata": {},
   "outputs": [],
   "source": [
    "# Changing Data Type\n",
    "def float_to_int(x,df):\n",
    "    for i in x:\n",
    "        df[i] = df[i].astype(\"int64\")\n",
    "    return df\n",
    "\n",
    "cols = [\"video_views_rank\",\"country_rank\",\"channel_type_rank\",\"video_views_for_the_last_30_days\",\"created_year\"]\n",
    "\n",
    "df = float_to_int(cols,df)"
   ]
  },
  {
   "cell_type": "code",
   "execution_count": null,
   "id": "f9907622",
   "metadata": {},
   "outputs": [],
   "source": [
    "df.dtypes"
   ]
  },
  {
   "cell_type": "code",
   "execution_count": null,
   "id": "20e1dbde",
   "metadata": {},
   "outputs": [],
   "source": [
    "df.head()"
   ]
  },
  {
   "cell_type": "code",
   "execution_count": null,
   "id": "6024ac04",
   "metadata": {},
   "outputs": [],
   "source": [
    "df.shape"
   ]
  },
  {
   "cell_type": "markdown",
   "id": "f70d43af",
   "metadata": {},
   "source": [
    "# Graphs"
   ]
  },
  {
   "cell_type": "code",
   "execution_count": null,
   "id": "12e43d3b",
   "metadata": {},
   "outputs": [],
   "source": [
    "df.describe()"
   ]
  },
  {
   "cell_type": "code",
   "execution_count": null,
   "id": "a8247c23",
   "metadata": {},
   "outputs": [],
   "source": [
    "plt.figure(figsize = (16,8))\n",
    "top_ten_subscribers = sns.barplot(x = \"Youtuber\",y = \"subscribers\",data = df[:10])\n",
    "plt.title(\"Top Ten Countries\",fontsize = 20)\n",
    "plt.tight_layout()\n",
    "plt.grid(True)\n",
    "plt.xticks(rotation = 30)\n",
    "plt.show()"
   ]
  },
  {
   "cell_type": "code",
   "execution_count": null,
   "id": "9ebace9b",
   "metadata": {},
   "outputs": [],
   "source": []
  },
  {
   "cell_type": "code",
   "execution_count": null,
   "id": "31741915",
   "metadata": {},
   "outputs": [],
   "source": []
  }
 ],
 "metadata": {
  "kernelspec": {
   "display_name": "Python 3 (ipykernel)",
   "language": "python",
   "name": "python3"
  },
  "language_info": {
   "codemirror_mode": {
    "name": "ipython",
    "version": 3
   },
   "file_extension": ".py",
   "mimetype": "text/x-python",
   "name": "python",
   "nbconvert_exporter": "python",
   "pygments_lexer": "ipython3",
   "version": "3.11.4"
  }
 },
 "nbformat": 4,
 "nbformat_minor": 5
}
